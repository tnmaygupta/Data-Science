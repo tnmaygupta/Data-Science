{
  "nbformat": 4,
  "nbformat_minor": 0,
  "metadata": {
    "colab": {
      "provenance": []
    },
    "kernelspec": {
      "name": "python3",
      "display_name": "Python 3"
    },
    "language_info": {
      "name": "python"
    }
  },
  "cells": [
    {
      "cell_type": "markdown",
      "source": [
        "# Data Science Tools and Ecosystem"
      ],
      "metadata": {
        "id": "V2LnxVfpUets"
      }
    },
    {
      "cell_type": "markdown",
      "source": [
        "In this notebook, Data Science Tools and Ecosystem are summarized."
      ],
      "metadata": {
        "id": "bagmRhPHUzqq"
      }
    },
    {
      "cell_type": "markdown",
      "source": [
        "Some of the popular languages that Data Scientists use are:\n",
        "1. Julia\n",
        "2. SQL\n",
        "3. Java"
      ],
      "metadata": {
        "id": "Lq4bXRDoVz2n"
      }
    },
    {
      "cell_type": "markdown",
      "source": [
        "Data Science Tools \\\n",
        "| Apache Spark |\\\n",
        "| Matplotlib |\\\n",
        "| Tensor Flow |"
      ],
      "metadata": {
        "id": "Rik_sdNYWL_K"
      }
    },
    {
      "cell_type": "markdown",
      "source": [
        "### Below are a few examples of evaluating arithmetic expressions in Python"
      ],
      "metadata": {
        "id": "jq_FNqKiYwCk"
      }
    },
    {
      "cell_type": "code",
      "source": [
        "#his a simple arithmetic expression to mutiply then add integers\n",
        "(3*4)+5"
      ],
      "metadata": {
        "colab": {
          "base_uri": "https://localhost:8080/"
        },
        "id": "9WmMCacOUb-z",
        "outputId": "17267c71-5bb9-4d12-9bee-8156aa140af6"
      },
      "execution_count": 1,
      "outputs": [
        {
          "output_type": "execute_result",
          "data": {
            "text/plain": [
              "17"
            ]
          },
          "metadata": {},
          "execution_count": 1
        }
      ]
    },
    {
      "cell_type": "code",
      "source": [
        "#This will convert 200 minutes to hours by diving by 60\n",
        "200/60"
      ],
      "metadata": {
        "colab": {
          "base_uri": "https://localhost:8080/"
        },
        "id": "hP6qqOPQZWRZ",
        "outputId": "35393f6b-2c56-41ec-ec08-beabae30ad0b"
      },
      "execution_count": 2,
      "outputs": [
        {
          "output_type": "execute_result",
          "data": {
            "text/plain": [
              "3.3333333333333335"
            ]
          },
          "metadata": {},
          "execution_count": 2
        }
      ]
    },
    {
      "cell_type": "markdown",
      "source": [
        "**Objectives:**\n",
        "* Data Science Tools\n",
        "* A simple arithmetic expression\n",
        "* Convert minutes to hours\n",
        "* List popular languages for Data Science"
      ],
      "metadata": {
        "id": "sBfE7oOmZqai"
      }
    },
    {
      "cell_type": "markdown",
      "source": [
        "##Author\n",
        "Tnmay Gupta"
      ],
      "metadata": {
        "id": "WVLB-7hUaM23"
      }
    },
    {
      "cell_type": "code",
      "source": [],
      "metadata": {
        "id": "9xq1-FfwaBOV"
      },
      "execution_count": null,
      "outputs": []
    }
  ]
}